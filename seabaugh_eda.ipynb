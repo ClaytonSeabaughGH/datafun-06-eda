{
 "cells": [
  {
   "cell_type": "markdown",
   "metadata": {},
   "source": [
    "# <b> Exploratory Data Analysis: Failed Bank List\n",
    "### Author: Clayton Seabaugh\n",
    "### Date: 9/27/2024"
   ]
  },
  {
   "cell_type": "markdown",
   "metadata": {},
   "source": [
    "### Import Libraries"
   ]
  },
  {
   "cell_type": "code",
   "execution_count": 7,
   "metadata": {},
   "outputs": [],
   "source": [
    "import matplotlib.pyplot as plt\n",
    "import pandas as pd\n",
    "import seaborn as sns\n",
    "import numpy as np\n",
    "import csv\n"
   ]
  },
  {
   "cell_type": "code",
   "execution_count": 13,
   "metadata": {},
   "outputs": [
    {
     "name": "stdout",
     "output_type": "stream",
     "text": [
      "<bound method NDFrame.head of                                 Bank Name           City  State   Cert   \\\n",
      "0    Republic First Bank dba Republic Bank   Philadelphia     PA  27332   \n",
      "1                            Citizens Bank       Sac City     IA   8758   \n",
      "2                 Heartland Tri-State Bank        Elkhart     KS  25851   \n",
      "3                      First Republic Bank  San Francisco     CA  59017   \n",
      "4                           Signature Bank       New York     NY  57053   \n",
      "..                                     ...            ...    ...    ...   \n",
      "564                     Superior Bank, FSB       Hinsdale     IL  32646   \n",
      "565                    Malta National Bank          Malta     OH   6629   \n",
      "566        First Alliance Bank & Trust Co.     Manchester     NH  34264   \n",
      "567      National State Bank of Metropolis     Metropolis     IL   3815   \n",
      "568                       Bank of Honolulu       Honolulu     HI  21029   \n",
      "\n",
      "                  Acquiring Institution  Closing Date    Fund  \n",
      "0      Fulton Bank, National Association     26-Apr-24  10546  \n",
      "1              Iowa Trust & Savings Bank      3-Nov-23  10545  \n",
      "2                 Dream First Bank, N.A.     28-Jul-23  10544  \n",
      "3              JPMorgan Chase Bank, N.A.      1-May-23  10543  \n",
      "4                    Flagstar Bank, N.A.     12-Mar-23  10540  \n",
      "..                                   ...           ...    ...  \n",
      "564                Superior Federal, FSB     27-Jul-01   6004  \n",
      "565                    North Valley Bank      3-May-01   4648  \n",
      "566  Southern New Hampshire Bank & Trust      2-Feb-01   4647  \n",
      "567              Banterra Bank of Marion     14-Dec-00   4646  \n",
      "568                   Bank of the Orient     13-Oct-00   4645  \n",
      "\n",
      "[569 rows x 7 columns]>\n"
     ]
    }
   ],
   "source": [
    "df = pd.read_csv(r'C:\\Users\\clayt\\Documents\\datafun-06-eda\\banklist.csv',  encoding='ISO-8859-1')\n",
    "print(df.head)"
   ]
  },
  {
   "cell_type": "code",
   "execution_count": null,
   "metadata": {},
   "outputs": [],
   "source": []
  }
 ],
 "metadata": {
  "kernelspec": {
   "display_name": ".venv",
   "language": "python",
   "name": "python3"
  },
  "language_info": {
   "codemirror_mode": {
    "name": "ipython",
    "version": 3
   },
   "file_extension": ".py",
   "mimetype": "text/x-python",
   "name": "python",
   "nbconvert_exporter": "python",
   "pygments_lexer": "ipython3",
   "version": "3.12.5"
  }
 },
 "nbformat": 4,
 "nbformat_minor": 2
}
